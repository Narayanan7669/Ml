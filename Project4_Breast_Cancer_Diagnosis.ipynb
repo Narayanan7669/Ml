{
  "nbformat": 4,
  "nbformat_minor": 0,
  "metadata": {
    "colab": {
      "provenance": [],
      "include_colab_link": true
    },
    "kernelspec": {
      "name": "python3",
      "display_name": "Python 3"
    },
    "language_info": {
      "name": "python"
    }
  },
  "cells": [
    {
      "cell_type": "markdown",
      "metadata": {
        "id": "view-in-github",
        "colab_type": "text"
      },
      "source": [
        "<a href=\"https://colab.research.google.com/github/Narayanan7669/Ml/blob/main/Project4_Breast_Cancer_Diagnosis.ipynb\" target=\"_parent\"><img src=\"https://colab.research.google.com/assets/colab-badge.svg\" alt=\"Open In Colab\"/></a>"
      ]
    },
    {
      "cell_type": "code",
      "execution_count": null,
      "metadata": {
        "colab": {
          "base_uri": "https://localhost:8080/"
        },
        "id": "WQcZLtM6ysEV",
        "outputId": "52c1696a-c2f5-4b7c-954b-d43011690faa"
      },
      "outputs": [
        {
          "output_type": "stream",
          "name": "stdout",
          "text": [
            "Shape: (569, 33)\n"
          ]
        }
      ],
      "source": [
        "# --- 1️⃣ Imports and Setup ---\n",
        "import pandas as pd\n",
        "import numpy as np\n",
        "import matplotlib.pyplot as plt\n",
        "from sklearn.model_selection import train_test_split, cross_val_score, GridSearchCV\n",
        "from sklearn.preprocessing import StandardScaler, LabelEncoder\n",
        "from sklearn.impute import SimpleImputer\n",
        "from sklearn.neighbors import KNeighborsClassifier\n",
        "from sklearn.linear_model import LogisticRegression\n",
        "from sklearn.ensemble import RandomForestClassifier\n",
        "from sklearn.metrics import (accuracy_score, precision_score, recall_score, f1_score, confusion_matrix,\n",
        "roc_auc_score, roc_curve, classification_report)\n",
        "from sklearn.decomposition import PCA\n",
        "\n",
        "\n",
        "# Optional: Handle imbalance\n",
        "!pip install -q imbalanced-learn\n",
        "from imblearn.over_sampling import SMOTE\n",
        "\n",
        "\n",
        "# --- 2️⃣ Load Dataset ---\n",
        "df = pd.read_csv('data.csv')\n",
        "print('Shape:', df.shape)\n",
        "df.head()\n",
        "\n",
        "\n",
        "# --- Identify Target Column ---\n",
        "possible_targets = ['diagnosis','target','label','class']\n",
        "target_col = [c for c in possible_targets if c in df.columns]\n",
        "target_col = target_col[0] if target_col else df.columns[-1]\n",
        "\n",
        "\n",
        "X = df.drop(columns=[target_col, 'Unnamed: 32'])\n",
        "y = df[target_col]\n",
        "\n",
        "\n",
        "if y.dtype == 'object':\n",
        "    y = LabelEncoder().fit_transform(y)\n",
        "\n",
        "\n",
        "# --- Basic Preprocessing ---\n",
        "num_cols = X.select_dtypes(include=[np.number]).columns\n",
        "imputer = SimpleImputer(strategy='mean')\n",
        "X[num_cols] = imputer.fit_transform(X[num_cols])\n",
        "scaler = StandardScaler()\n",
        "X[num_cols] = scaler.fit_transform(X[num_cols])\n",
        "\n",
        "\n",
        "X_train, X_test, y_train, y_test = train_test_split(X, y, test_size=0.2, random_state=42, stratify=y)"
      ]
    },
    {
      "cell_type": "code",
      "source": [
        "from google.colab import drive\n",
        "drive.mount('/content/data.csv')"
      ],
      "metadata": {
        "id": "wfRoYwplo574",
        "colab": {
          "base_uri": "https://localhost:8080/",
          "height": 304
        },
        "outputId": "93ce0ed3-2b92-4de5-c6ea-0ad4dcb5dcb8"
      },
      "execution_count": 7,
      "outputs": [
        {
          "output_type": "error",
          "ename": "ValueError",
          "evalue": "Mountpoint must either be a directory or not exist",
          "traceback": [
            "\u001b[0;31m---------------------------------------------------------------------------\u001b[0m",
            "\u001b[0;31mValueError\u001b[0m                                Traceback (most recent call last)",
            "\u001b[0;32m/tmp/ipython-input-2268913853.py\u001b[0m in \u001b[0;36m<cell line: 0>\u001b[0;34m()\u001b[0m\n\u001b[1;32m      1\u001b[0m \u001b[0;32mfrom\u001b[0m \u001b[0mgoogle\u001b[0m\u001b[0;34m.\u001b[0m\u001b[0mcolab\u001b[0m \u001b[0;32mimport\u001b[0m \u001b[0mdrive\u001b[0m\u001b[0;34m\u001b[0m\u001b[0;34m\u001b[0m\u001b[0m\n\u001b[0;32m----> 2\u001b[0;31m \u001b[0mdrive\u001b[0m\u001b[0;34m.\u001b[0m\u001b[0mmount\u001b[0m\u001b[0;34m(\u001b[0m\u001b[0;34m'/content/data.csv'\u001b[0m\u001b[0;34m)\u001b[0m\u001b[0;34m\u001b[0m\u001b[0;34m\u001b[0m\u001b[0m\n\u001b[0m",
            "\u001b[0;32m/usr/local/lib/python3.12/dist-packages/google/colab/drive.py\u001b[0m in \u001b[0;36mmount\u001b[0;34m(mountpoint, force_remount, timeout_ms, readonly)\u001b[0m\n\u001b[1;32m     95\u001b[0m \u001b[0;32mdef\u001b[0m \u001b[0mmount\u001b[0m\u001b[0;34m(\u001b[0m\u001b[0mmountpoint\u001b[0m\u001b[0;34m,\u001b[0m \u001b[0mforce_remount\u001b[0m\u001b[0;34m=\u001b[0m\u001b[0;32mFalse\u001b[0m\u001b[0;34m,\u001b[0m \u001b[0mtimeout_ms\u001b[0m\u001b[0;34m=\u001b[0m\u001b[0;36m120000\u001b[0m\u001b[0;34m,\u001b[0m \u001b[0mreadonly\u001b[0m\u001b[0;34m=\u001b[0m\u001b[0;32mFalse\u001b[0m\u001b[0;34m)\u001b[0m\u001b[0;34m:\u001b[0m\u001b[0;34m\u001b[0m\u001b[0;34m\u001b[0m\u001b[0m\n\u001b[1;32m     96\u001b[0m   \u001b[0;34m\"\"\"Mount your Google Drive at the specified mountpoint path.\"\"\"\u001b[0m\u001b[0;34m\u001b[0m\u001b[0;34m\u001b[0m\u001b[0m\n\u001b[0;32m---> 97\u001b[0;31m   return _mount(\n\u001b[0m\u001b[1;32m     98\u001b[0m       \u001b[0mmountpoint\u001b[0m\u001b[0;34m,\u001b[0m\u001b[0;34m\u001b[0m\u001b[0;34m\u001b[0m\u001b[0m\n\u001b[1;32m     99\u001b[0m       \u001b[0mforce_remount\u001b[0m\u001b[0;34m=\u001b[0m\u001b[0mforce_remount\u001b[0m\u001b[0;34m,\u001b[0m\u001b[0;34m\u001b[0m\u001b[0;34m\u001b[0m\u001b[0m\n",
            "\u001b[0;32m/usr/local/lib/python3.12/dist-packages/google/colab/drive.py\u001b[0m in \u001b[0;36m_mount\u001b[0;34m(mountpoint, force_remount, timeout_ms, ephemeral, readonly)\u001b[0m\n\u001b[1;32m    195\u001b[0m       \u001b[0;32mraise\u001b[0m \u001b[0mValueError\u001b[0m\u001b[0;34m(\u001b[0m\u001b[0;34m'Mountpoint must not already contain files'\u001b[0m\u001b[0;34m)\u001b[0m\u001b[0;34m\u001b[0m\u001b[0;34m\u001b[0m\u001b[0m\n\u001b[1;32m    196\u001b[0m     \u001b[0;32mif\u001b[0m \u001b[0;32mnot\u001b[0m \u001b[0m_os\u001b[0m\u001b[0;34m.\u001b[0m\u001b[0mpath\u001b[0m\u001b[0;34m.\u001b[0m\u001b[0misdir\u001b[0m\u001b[0;34m(\u001b[0m\u001b[0mmountpoint\u001b[0m\u001b[0;34m)\u001b[0m \u001b[0;32mand\u001b[0m \u001b[0m_os\u001b[0m\u001b[0;34m.\u001b[0m\u001b[0mpath\u001b[0m\u001b[0;34m.\u001b[0m\u001b[0mexists\u001b[0m\u001b[0;34m(\u001b[0m\u001b[0mmountpoint\u001b[0m\u001b[0;34m)\u001b[0m\u001b[0;34m:\u001b[0m\u001b[0;34m\u001b[0m\u001b[0;34m\u001b[0m\u001b[0m\n\u001b[0;32m--> 197\u001b[0;31m       \u001b[0;32mraise\u001b[0m \u001b[0mValueError\u001b[0m\u001b[0;34m(\u001b[0m\u001b[0;34m'Mountpoint must either be a directory or not exist'\u001b[0m\u001b[0;34m)\u001b[0m\u001b[0;34m\u001b[0m\u001b[0;34m\u001b[0m\u001b[0m\n\u001b[0m\u001b[1;32m    198\u001b[0m     \u001b[0mnormed\u001b[0m \u001b[0;34m=\u001b[0m \u001b[0m_os\u001b[0m\u001b[0;34m.\u001b[0m\u001b[0mpath\u001b[0m\u001b[0;34m.\u001b[0m\u001b[0mnormpath\u001b[0m\u001b[0;34m(\u001b[0m\u001b[0mmountpoint\u001b[0m\u001b[0;34m)\u001b[0m\u001b[0;34m\u001b[0m\u001b[0;34m\u001b[0m\u001b[0m\n\u001b[1;32m    199\u001b[0m     \u001b[0;32mif\u001b[0m \u001b[0;34m'/'\u001b[0m \u001b[0;32min\u001b[0m \u001b[0mnormed\u001b[0m \u001b[0;32mand\u001b[0m \u001b[0;32mnot\u001b[0m \u001b[0m_os\u001b[0m\u001b[0;34m.\u001b[0m\u001b[0mpath\u001b[0m\u001b[0;34m.\u001b[0m\u001b[0mexists\u001b[0m\u001b[0;34m(\u001b[0m\u001b[0m_os\u001b[0m\u001b[0;34m.\u001b[0m\u001b[0mpath\u001b[0m\u001b[0;34m.\u001b[0m\u001b[0mdirname\u001b[0m\u001b[0;34m(\u001b[0m\u001b[0mnormed\u001b[0m\u001b[0;34m)\u001b[0m\u001b[0;34m)\u001b[0m\u001b[0;34m:\u001b[0m\u001b[0;34m\u001b[0m\u001b[0;34m\u001b[0m\u001b[0m\n",
            "\u001b[0;31mValueError\u001b[0m: Mountpoint must either be a directory or not exist"
          ]
        }
      ]
    },
    {
      "cell_type": "markdown",
      "source": [
        "\n",
        "## 🔍 Q1. What features are most predictive?\n",
        "\n",
        "**Explanation:** Features highly correlated with the diagnosis (target) are most predictive."
      ],
      "metadata": {
        "id": "1lwQI66g5WDc"
      }
    },
    {
      "cell_type": "code",
      "source": [
        "import seaborn as sns\n",
        "\n",
        "correlation = df.drop('diagnosis', axis=1).corr()\n",
        "plt.figure(figsize=(10,6))\n",
        "sns.heatmap(correlation, cmap='coolwarm')\n",
        "plt.title('Feature Correlation Heatmap')\n",
        "plt.show()"
      ],
      "metadata": {
        "id": "cEiRnFKf5bWA"
      },
      "execution_count": null,
      "outputs": []
    },
    {
      "cell_type": "markdown",
      "source": [
        "## ⚙️ Q2. How does KNN work?\n",
        "**Explanation:** KNN predicts the class of a data point by looking at its *k nearest neighbors* in feature space.\n"
      ],
      "metadata": {
        "id": "2rp7AgLU53Ro"
      }
    },
    {
      "cell_type": "code",
      "source": [
        "knn = KNeighborsClassifier(n_neighbors=5)\n",
        "knn.fit(X_train, y_train)\n",
        "y_pred_knn = knn.predict(X_test)"
      ],
      "metadata": {
        "id": "uIhzUj3U5-py"
      },
      "execution_count": null,
      "outputs": []
    },
    {
      "cell_type": "markdown",
      "source": [
        "## 📊 Q3. What is accuracy, precision, recall?\n",
        "**Explanation:**\n",
        "- **Accuracy** = correct predictions / total predictions\n",
        "- **Precision** = true positives / (true positives + false positives)\n",
        "- **Recall** = true positives / (true positives + false negatives)"
      ],
      "metadata": {
        "id": "Hgcv_h1s59h4"
      }
    },
    {
      "cell_type": "code",
      "source": [
        "print('Accuracy:', accuracy_score(y_test, y_pred_knn))\n",
        "print('Precision:', precision_score(y_test, y_pred_knn))\n",
        "print('Recall:', recall_score(y_test, y_pred_knn))"
      ],
      "metadata": {
        "id": "S-2y11Bn5-Cd"
      },
      "execution_count": null,
      "outputs": []
    },
    {
      "cell_type": "markdown",
      "source": [
        "## ⚖️ Q4. How to choose K in KNN?\n",
        "**Explanation:** The K with the lowest error rate is chosen for best performance."
      ],
      "metadata": {
        "id": "BLz8CjPf61et"
      }
    },
    {
      "cell_type": "code",
      "source": [
        "error_rate = []\n",
        "for k in range(1, 21):\n",
        "    knn = KNeighborsClassifier(n_neighbors=k)\n",
        "    knn.fit(X_train, y_train)\n",
        "    pred_k = knn.predict(X_test)\n",
        "    error_rate.append(np.mean(pred_k != y_test))\n",
        "\n",
        "\n",
        "plt.figure(figsize=(8,5))\n",
        "plt.plot(range(1,21), error_rate, marker='o', linestyle='--')\n",
        "plt.xlabel('K Value')\n",
        "plt.ylabel('Error Rate')\n",
        "plt.title('Choosing Best K')\n",
        "plt.show()"
      ],
      "metadata": {
        "id": "FmwPD7oI65tQ"
      },
      "execution_count": null,
      "outputs": []
    },
    {
      "cell_type": "markdown",
      "source": [
        "## 📈 Q5. What is ROC-AUC?\n",
        "**Explanation:** ROC-AUC measures how well the model separates the two classes (1 = perfect, 0.5 = random).\n"
      ],
      "metadata": {
        "id": "HUqzA-327GwY"
      }
    },
    {
      "cell_type": "code",
      "source": [
        "from imblearn.over_sampling import SMOTE\n",
        "sm = SMOTE(random_state=42)\n",
        "X_res, y_res = sm.fit_resample(X, y)\n",
        "print('Before:', pd.Series(y).value_counts())\n",
        "print('After:', pd.Series(y_res).value_counts())"
      ],
      "metadata": {
        "id": "KB9FyJXi7fGG"
      },
      "execution_count": null,
      "outputs": []
    },
    {
      "cell_type": "markdown",
      "source": [
        "## ⚖️ Q6. How to handle imbalanced data?\n",
        "**Explanation:** SMOTE balances data by generating synthetic samples for minority classes."
      ],
      "metadata": {
        "id": "_0ngepaB8CER"
      }
    },
    {
      "cell_type": "code",
      "source": [
        "from imblearn.over_sampling import SMOTE\n",
        "sm = SMOTE(random_state=42)\n",
        "X_res, y_res = sm.fit_resample(X, y)\n",
        "print('Before:', pd.Series(y).value_counts())\n",
        "print('After:', pd.Series(y_res).value_counts())"
      ],
      "metadata": {
        "id": "dcKFQy7q8Ghq"
      },
      "execution_count": null,
      "outputs": []
    },
    {
      "cell_type": "markdown",
      "source": [
        "## 🔧 Q7. What preprocessing is needed?\n",
        "**Explanation:** Preprocessing includes removing nulls, scaling features, and encoding categorical data if any."
      ],
      "metadata": {
        "id": "V8Oo0QU071dS"
      }
    },
    {
      "cell_type": "code",
      "source": [
        "# Handling missing values\n",
        "print(df.isnull().sum())"
      ],
      "metadata": {
        "id": "vFbBrCbi799g"
      },
      "execution_count": null,
      "outputs": []
    },
    {
      "cell_type": "markdown",
      "source": [
        "## 🌈 Q8. How to visualize decision boundaries?\n",
        "**Explanation:** Decision boundaries show how the classifier divides regions of different predicted classes."
      ],
      "metadata": {
        "id": "8nnY7y4B8XOG"
      }
    },
    {
      "cell_type": "code",
      "source": [
        "from mlxtend.plotting import plot_decision_regions\n",
        "\n",
        "\n",
        "# Use only 2 features for visualization\n",
        "X_vis = X_train.iloc[:, :2].to_numpy()\n",
        "y_vis = y_train # Use the original integer labels for plotting\n",
        "knn_vis = KNeighborsClassifier(n_neighbors=5)\n",
        "knn_vis.fit(X_vis, y_vis)\n",
        "\n",
        "\n",
        "plot_decision_regions(X_vis, y_vis, clf=knn_vis, legend=2)\n",
        "plt.title('KNN Decision Boundary')\n",
        "plt.show()"
      ],
      "metadata": {
        "id": "dPXHrd-n8nhC"
      },
      "execution_count": null,
      "outputs": []
    },
    {
      "cell_type": "markdown",
      "source": [
        "## 🔁 Q9. What is overfitting?\n",
        "**Explanation:** Overfitting occurs when a model performs well on training data but poorly on unseen data.\n",
        "\n"
      ],
      "metadata": {
        "id": "VDG1YfJj8q3T"
      }
    },
    {
      "cell_type": "code",
      "source": [
        "train_acc = knn.score(X_train, y_train)\n",
        "test_acc = knn.score(X_test, y_test)\n",
        "print('Train Accuracy:', train_acc)\n",
        "print('Test Accuracy:', test_acc)"
      ],
      "metadata": {
        "id": "z7edR0QY8xhG"
      },
      "execution_count": null,
      "outputs": []
    },
    {
      "cell_type": "markdown",
      "source": [
        "## ⚔️ Q10. How to compare models?\n",
        "\n",
        "**Explanation:** Models can be compared using accuracy, precision, recall, and AUC scores."
      ],
      "metadata": {
        "id": "ObjIM_P-9XnP"
      }
    },
    {
      "cell_type": "code",
      "source": [
        "log_reg = LogisticRegression(max_iter=1000)\n",
        "log_reg.fit(X_train, y_train)\n",
        "y_pred_log = log_reg.predict(X_test)\n",
        "\n",
        "\n",
        "print('KNN Accuracy:', accuracy_score(y_test, y_pred_knn))\n",
        "print('Logistic Regression Accuracy:', accuracy_score(y_test, y_pred_log))"
      ],
      "metadata": {
        "id": "MJZC9iBh9jRT"
      },
      "execution_count": null,
      "outputs": []
    },
    {
      "cell_type": "markdown",
      "source": [
        "## Q11. How to check feature importance in Logistic Regression?\n",
        "\n",
        "**Explanation:** Coefficients indicate the strength of each feature in predicting malignancy."
      ],
      "metadata": {
        "id": "Wncw_bfL90Vs"
      }
    },
    {
      "cell_type": "code",
      "source": [
        "importance = pd.Series(log_reg.coef_[0], index=X.columns)\n",
        "importance.nlargest(10).plot(kind='barh')\n",
        "plt.title('Top 10 Important Features (Logistic Regression)')\n",
        "plt.show()"
      ],
      "metadata": {
        "id": "Ix0FzMa597mP"
      },
      "execution_count": null,
      "outputs": []
    },
    {
      "cell_type": "markdown",
      "source": [
        "## Q12. How to display the confusion matrix?\n",
        "\n",
        "**Explanation:** Confusion matrix shows how many predictions are correct or incorrect for each class."
      ],
      "metadata": {
        "id": "llube1Dt-AEK"
      }
    },
    {
      "cell_type": "code",
      "source": [
        "cm = confusion_matrix(y_test, y_pred_log)\n",
        "sns.heatmap(cm, annot=True, fmt='d', cmap='Blues')\n",
        "plt.xlabel('Predicted')\n",
        "plt.ylabel('Actual')\n",
        "plt.title('Confusion Matrix')\n",
        "plt.show()"
      ],
      "metadata": {
        "id": "kVteMuw5-F64"
      },
      "execution_count": null,
      "outputs": []
    },
    {
      "cell_type": "markdown",
      "source": [
        "## Q13. How to print full classification report?\n",
        "\n",
        "**Explanation:** Displays precision, recall, F1-score, and accuracy in a single table.\n",
        "\n"
      ],
      "metadata": {
        "id": "NyDs7AYn-KOI"
      }
    },
    {
      "cell_type": "code",
      "source": [
        "print(classification_report(y_test, y_pred_log))"
      ],
      "metadata": {
        "id": "PSqpemMN-Pxl"
      },
      "execution_count": null,
      "outputs": []
    },
    {
      "cell_type": "markdown",
      "source": [
        "## Q14. How to detect outliers in the data?\n",
        "\n",
        "**Explanation:** Boxplots help visualize outliers that might distort model training."
      ],
      "metadata": {
        "id": "Kv7j5i6y-VjF"
      }
    },
    {
      "cell_type": "code",
      "source": [
        "sns.boxplot(data=X)\n",
        "plt.title('Outlier Detection')\n",
        "plt.show()"
      ],
      "metadata": {
        "id": "jTYH44mv-bzm"
      },
      "execution_count": null,
      "outputs": []
    },
    {
      "cell_type": "markdown",
      "source": [
        "\n",
        "## Q15. How to save and load the trained model?\n",
        "\n",
        "**Explanation:** Saving models allows reusing them for future predictions without retraining.\n"
      ],
      "metadata": {
        "id": "DYHWWvxQ-gB7"
      }
    },
    {
      "cell_type": "code",
      "source": [
        "import joblib\n",
        "joblib.dump(log_reg, 'breast_cancer_model.pkl')\n",
        "model = joblib.load('breast_cancer_model.pkl')\n",
        "print('Model loaded successfully!')"
      ],
      "metadata": {
        "id": "A6IwLjH4-lgI"
      },
      "execution_count": null,
      "outputs": []
    }
  ]
}